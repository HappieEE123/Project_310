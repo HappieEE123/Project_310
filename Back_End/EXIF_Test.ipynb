{
  "nbformat": 4,
  "nbformat_minor": 0,
  "metadata": {
    "colab": {
      "provenance": [],
      "collapsed_sections": [],
      "authorship_tag": "ABX9TyO+i+mCMh5eVV6JlVvMMB3s",
      "include_colab_link": true
    },
    "kernelspec": {
      "name": "python3",
      "display_name": "Python 3"
    },
    "language_info": {
      "name": "python"
    }
  },
  "cells": [
    {
      "cell_type": "markdown",
      "metadata": {
        "id": "view-in-github",
        "colab_type": "text"
      },
      "source": [
        "<a href=\"https://colab.research.google.com/github/HappieEE123/Project_310/blob/fix%239/Back_End/EXIF_Test.ipynb\" target=\"_parent\"><img src=\"https://colab.research.google.com/assets/colab-badge.svg\" alt=\"Open In Colab\"/></a>"
      ]
    },
    {
      "cell_type": "code",
      "execution_count": 27,
      "metadata": {
        "id": "GRClQGFOBzvJ"
      },
      "outputs": [],
      "source": [
        "from PIL import Image, ExifTags\n",
        "import cv2\n",
        "import pylab"
      ]
    },
    {
      "cell_type": "code",
      "source": [
        "!wget http://mp3.weasoft.com/tmp_raw_0.5183774912006679.png"
      ],
      "metadata": {
        "colab": {
          "base_uri": "https://localhost:8080/"
        },
        "id": "hqJ--X7dCwJM",
        "outputId": "78501523-9505-43b8-dedd-3da3bdf70a35"
      },
      "execution_count": 7,
      "outputs": [
        {
          "output_type": "stream",
          "name": "stdout",
          "text": [
            "--2022-10-17 17:45:26--  http://mp3.weasoft.com/tmp_raw_0.5183774912006679.png\n",
            "Resolving mp3.weasoft.com (mp3.weasoft.com)... 66.42.65.160\n",
            "Connecting to mp3.weasoft.com (mp3.weasoft.com)|66.42.65.160|:80... connected.\n",
            "HTTP request sent, awaiting response... 200 OK\n",
            "Length: 1026230 (1002K) [image/png]\n",
            "Saving to: ‘tmp_raw_0.5183774912006679.png’\n",
            "\n",
            "tmp_raw_0.518377491 100%[===================>]   1002K  2.10MB/s    in 0.5s    \n",
            "\n",
            "2022-10-17 17:45:27 (2.10 MB/s) - ‘tmp_raw_0.5183774912006679.png’ saved [1026230/1026230]\n",
            "\n"
          ]
        }
      ]
    },
    {
      "cell_type": "code",
      "source": [
        "img = Image.open(\"IMG_1629.jpg\")"
      ],
      "metadata": {
        "colab": {
          "base_uri": "https://localhost:8080/"
        },
        "id": "JzDqtAdQB50c",
        "outputId": "9053232c-1bee-4179-e822-9930dd218e6a"
      },
      "execution_count": 22,
      "outputs": [
        {
          "output_type": "execute_result",
          "data": {
            "text/plain": [
              "1"
            ]
          },
          "metadata": {},
          "execution_count": 22
        }
      ]
    },
    {
      "cell_type": "code",
      "source": [
        "degs = {1: 0, 3: 180, 5: 90, 7:270}\n",
        "deg = degs[img.getexif()[274]]\n",
        "img = img.rotate(deg)"
      ],
      "metadata": {
        "id": "pShLWs4wH1_B"
      },
      "execution_count": 29,
      "outputs": []
    }
  ]
}