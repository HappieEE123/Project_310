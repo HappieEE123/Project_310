{
  "cells": [
    {
      "cell_type": "markdown",
      "metadata": {
        "colab_type": "text",
        "id": "view-in-github"
      },
      "source": [
        "<a href=\"https://colab.research.google.com/github/HappieEE123/Project_310/blob/dev/Face_Crop.ipynb\" target=\"_parent\"><img src=\"https://colab.research.google.com/assets/colab-badge.svg\" alt=\"Open In Colab\"/></a>"
      ]
    },
    {
      "cell_type": "code",
      "execution_count": null,
      "metadata": {
        "id": "dyBB97eJYsMi"
      },
      "outputs": [],
      "source": [
        "#https://tinkalshakya283125.medium.com/face-detection-from-live-video-crop-the-face-and-send-it-via-email-using-opencv-and-smtplib-b2c32c182651"
      ]
    },
    {
      "cell_type": "code",
      "execution_count": 1,
      "metadata": {
        "colab": {
          "base_uri": "https://localhost:8080/"
        },
        "id": "nPMypXxtYtdd",
        "outputId": "44d00ef4-9b25-44ac-a57b-4592223eeb65"
      },
      "outputs": [
        {
          "name": "stdout",
          "output_type": "stream",
          "text": [
            "--2022-10-13 03:33:03--  https://raw.githubusercontent.com/opencv/opencv/master/data/haarcascades/haarcascade_frontalface_alt.xml\n",
            "Resolving raw.githubusercontent.com (raw.githubusercontent.com)... 185.199.108.133, 185.199.109.133, 185.199.110.133, ...\n",
            "Connecting to raw.githubusercontent.com (raw.githubusercontent.com)|185.199.108.133|:443... connected.\n",
            "HTTP request sent, awaiting response... 200 OK\n",
            "Length: 676709 (661K) [text/plain]\n",
            "Saving to: ‘haarcascade_frontalface_alt.xml’\n",
            "\n",
            "\r          haarcasca   0%[                    ]       0  --.-KB/s               \rhaarcascade_frontal 100%[===================>] 660.85K  --.-KB/s    in 0.04s   \n",
            "\n",
            "2022-10-13 03:33:04 (14.5 MB/s) - ‘haarcascade_frontalface_alt.xml’ saved [676709/676709]\n",
            "\n"
          ]
        }
      ],
      "source": [
        "!wget https://raw.githubusercontent.com/opencv/opencv/master/data/haarcascades/haarcascade_frontalface_alt.xml"
      ]
    },
    {
      "cell_type": "code",
      "execution_count": 18,
      "metadata": {
        "id": "Nu-49XANZ1Kf"
      },
      "outputs": [],
      "source": [
        "import cv2\n",
        "import numpy as np\n",
        "from PIL import Image\n",
        "import pylab\n",
        "model = cv2.CascadeClassifier('haarcascade_frontalface_alt.xml')"
      ]
    },
    {
      "cell_type": "code",
      "execution_count": null,
      "metadata": {
        "colab": {
          "base_uri": "https://localhost:8080/",
          "height": 286
        },
        "id": "PGnpPl0SaXZf",
        "outputId": "8ab95e51-4c1d-4224-a66e-ee4d133077e4"
      },
      "outputs": [],
      "source": [
        "img = np.array(Image.open(\"test.png\").convert('L'))\n",
        "face  = model.detectMultiScale(img)[0]\n",
        "# if len(face) == 0:\n",
        "#   return -1\n",
        "# crop_img = img[face[0]: face[1], face[0]+face[2]: face[1]+face[3]]\n",
        "x1 = face[0]\n",
        "y1 = face[1]\n",
        "x2 = face[2] + x1\n",
        "y2 = face[3] + y1 \n",
        "crop_img = img[y1:y2 , x1:x2]     \n",
        "pylab.imshow(crop_img)"
      ]
    }
  ],
  "metadata": {
    "colab": {
      "authorship_tag": "ABX9TyOBniS0ngLUtxia6+vFsSCi",
      "collapsed_sections": [],
      "include_colab_link": true,
      "provenance": []
    },
    "kernelspec": {
      "display_name": "Python 3",
      "name": "python3"
    },
    "language_info": {
      "name": "python"
    }
  },
  "nbformat": 4,
  "nbformat_minor": 0
}
